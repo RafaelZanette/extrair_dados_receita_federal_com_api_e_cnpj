{
  "nbformat": 4,
  "nbformat_minor": 0,
  "metadata": {
    "colab": {
      "provenance": [],
      "authorship_tag": "ABX9TyPFPFVD9Ij4LGoax4ZsBfCx",
      "include_colab_link": true
    },
    "kernelspec": {
      "name": "python3",
      "display_name": "Python 3"
    },
    "language_info": {
      "name": "python"
    }
  },
  "cells": [
    {
      "cell_type": "markdown",
      "metadata": {
        "id": "view-in-github",
        "colab_type": "text"
      },
      "source": [
        "<a href=\"https://colab.research.google.com/github/RafaelZanette/extrair_dados_receita_federal_com_api_e_cnpj/blob/main/extrair_dados_receita_federal_com_api_e_cnpj.ipynb\" target=\"_parent\"><img src=\"https://colab.research.google.com/assets/colab-badge.svg\" alt=\"Open In Colab\"/></a>"
      ]
    },
    {
      "cell_type": "markdown",
      "source": [
        "Este projeto objetiva extrair dados da receita federal usando uma API publica e CNPJ (Cadastro Nacional de Pessoas Jurídicas).\n",
        "\n",
        "API utilizada: https://receitaws.com.br/#section-api\n"
      ],
      "metadata": {
        "id": "DxlfjKXhB8k5"
      }
    },
    {
      "cell_type": "code",
      "execution_count": 30,
      "metadata": {
        "id": "O7QNEVAuBfka"
      },
      "outputs": [],
      "source": [
        "#Importando Bibliotecas\n",
        "import requests\n",
        "import re\n",
        "import pandas as pd\n",
        "import json\n",
        "import time"
      ]
    },
    {
      "cell_type": "code",
      "source": [
        "#Importando a base de dados\n",
        "#Importar um arquivo com uma coluna chamada \"cnpj\" com os CNPJs que deseja extrair os dados.\n",
        "#A coluna deve estar em formato de texto e sem pontos e barras (atentar para o Excel não tirar os zeros a esquerda)\n",
        "db = pd.read_excel(\"/content/db_cnpj.xlsx\", dtype={'cnpj':'category'})\n",
        "db\n"
      ],
      "metadata": {
        "collapsed": true,
        "id": "boYzDOfHDSFn"
      },
      "execution_count": null,
      "outputs": []
    },
    {
      "cell_type": "code",
      "source": [
        "\"\"\"Extraindo dados da Receita Federal do Brasil usando o CNPJ e a API (https://receitaws.com.br/#section-api)\n",
        "A API fornecida pela empresa receitaws permite a extração de dados gratuitamente, mas de maneira limitada a\n",
        "130.000 consultas com 3 extrações por minuto, por essa razão é necessário usar uma pausa com o função \"Time\",\n",
        "resultando assim em um alto tempo de operação \"\"\"\n",
        "lista_1 = []\n",
        "lista_2 = []\n",
        "lista_3 = []\n",
        "lista_4 = []\n",
        "lista_5 = []\n",
        "lista_6 = []\n",
        "lista_7 = []\n",
        "lista_8 = []\n",
        "lista_9 = []\n",
        "lista_10 = []\n",
        "lista_11 = []\n",
        "lista_12 = []\n",
        "lista_13 = []\n",
        "cont = 0\n",
        "db_1 = db[:]\n",
        "for i in db_1['cnpj']:\n",
        "  print(i)\n",
        "  cont=cont+1\n",
        "  print(cont)\n",
        "  url= 'https://receitaws.com.br/v1/cnpj/{}'.format(i)\n",
        "  querystring = {\"A867D2F5-D434-442F-9ACF-90CCCFF13836\"}\n",
        "  response = requests.request(\"GET\", url)\n",
        "  resp = json.loads(response.text)\n",
        "  lista_1.append(resp['situacao'])\n",
        "  lista_2.append(resp['nome'])\n",
        "  lista_3.append(resp['fantasia'])\n",
        "  lista_4.append(resp['logradouro'])\n",
        "  lista_5.append(resp['numero'])\n",
        "  lista_6.append(resp['complemento'])\n",
        "  lista_7.append(resp['bairro'])\n",
        "  lista_8.append(resp['cep'])\n",
        "  lista_9.append(resp['municipio'])\n",
        "  lista_10.append(resp['email'])\n",
        "  lista_11.append(resp['telefone'])\n",
        "  lista_12.append(resp['motivo_situacao'])\n",
        "  lista_13.append(resp['data_situacao'])\n",
        "  time.sleep(20)\n",
        "db_1['situacao'] = lista_1\n",
        "db_1['nome'] = lista_2\n",
        "db_1['fantasia'] = lista_3\n",
        "db_1['logradouro'] = lista_4\n",
        "db_1['numero'] = lista_5\n",
        "db_1['complemento'] = lista_6\n",
        "db_1['bairro'] = lista_7\n",
        "db_1['cep'] = lista_8\n",
        "db_1['municipio'] = lista_9\n",
        "db_1['email'] = lista_10\n",
        "db_1['telefone'] = lista_11\n",
        "db_1['motivo_situacao'] = lista_12\n",
        "db_1['data_situacao'] = lista_13\n",
        "\n",
        "db_1"
      ],
      "metadata": {
        "id": "M8eNpxCQLuJ8"
      },
      "execution_count": null,
      "outputs": []
    },
    {
      "cell_type": "code",
      "source": [
        "#Organizando as colunas de dados\n",
        "db_1 = db_1[['cnpj','situacao','motivo_situacao', 'data_situacao','nome','fantasia','logradouro','numero','complemento','bairro','cep','municipio','email','telefone']]\n",
        "db_1"
      ],
      "metadata": {
        "id": "WcGykTRuutD5"
      },
      "execution_count": null,
      "outputs": []
    },
    {
      "cell_type": "markdown",
      "source": [
        "Com os dados extraidos, os próximos passos se referem a exportar-los para Google Planilhas\n"
      ],
      "metadata": {
        "id": "9lNTVNHixpJe"
      }
    },
    {
      "cell_type": "code",
      "source": [
        "#Instalando a biblioteca Gsprerad\n",
        "!pip install gspread"
      ],
      "metadata": {
        "id": "UYVKjoj6xnVb"
      },
      "execution_count": null,
      "outputs": []
    },
    {
      "cell_type": "code",
      "source": [
        "#Importando bibliotecas\n",
        "from google.colab import auth\n",
        "from google.auth import default\n",
        "import gspread"
      ],
      "metadata": {
        "id": "rfnS9b5Bx9mk"
      },
      "execution_count": 22,
      "outputs": []
    },
    {
      "cell_type": "code",
      "source": [
        "#Fazendo autenticação\n",
        "#Nessa etapa será necessário selecionar uma conta Google e aceitar/permitir o acesso.\n",
        "auth.authenticate_user()\n",
        "creds, _= default()\n",
        "gc = gspread.authorize(creds)"
      ],
      "metadata": {
        "id": "V3utx9zqyCyY"
      },
      "execution_count": 23,
      "outputs": []
    },
    {
      "cell_type": "code",
      "source": [
        "#Trabalhando na planilha Google Sheets\n",
        "planilha =  gc.open(\"nome da planilha\")# Colocar entre os parenteses e aspas o nome da planilha que está no Google Sheets e para onde os dados serão extraídos\n",
        "aba1= planilha.sheet1"
      ],
      "metadata": {
        "id": "LqvknlUcybjY"
      },
      "execution_count": 24,
      "outputs": []
    },
    {
      "cell_type": "code",
      "source": [
        "#Exportando a planilha\n",
        "aba1.update([db_1.columns.values.tolist()]+db_1.values.tolist())"
      ],
      "metadata": {
        "colab": {
          "base_uri": "https://localhost:8080/"
        },
        "id": "tcc6FYodyhk-",
        "outputId": "cf4f1f00-c15a-4b7c-c1c8-94370475e99a"
      },
      "execution_count": 25,
      "outputs": [
        {
          "output_type": "execute_result",
          "data": {
            "text/plain": [
              "{'spreadsheetId': '1jZ85f_FoWITPClSUGjTPWJoNR2LodVgvDxzVf5sgqyo',\n",
              " 'updatedRange': \"'Página1'!A1:N6\",\n",
              " 'updatedRows': 6,\n",
              " 'updatedColumns': 14,\n",
              " 'updatedCells': 84}"
            ]
          },
          "metadata": {},
          "execution_count": 25
        }
      ]
    }
  ]
}